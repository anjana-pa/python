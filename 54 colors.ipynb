{
 "cells": [
  {
   "cell_type": "code",
   "execution_count": 1,
   "metadata": {},
   "outputs": [
    {
     "name": "stdout",
     "output_type": "stream",
     "text": [
      "original set of colors:\n",
      "{'green', 'red', 'black', 'blue'}\n",
      "{'blue', 'black', 'pink'}\n",
      "\n",
      " colors in clr_list1 not contained in clr_list2:\n",
      "{'green', 'red'}\n"
     ]
    }
   ],
   "source": [
    "#print out all colors fron color list not contained in colour list2\n",
    "\n",
    "clr_list1=set([\"red\",\"black\",\"blue\",\"green\"])\n",
    "clr_list2=set([\"pink\",\"blue\",\"black\"])\n",
    "print(\"original set of colors:\")\n",
    "print(clr_list1)\n",
    "print(clr_list2)\n",
    "print(\"\\n colors in clr_list1 not contained in clr_list2:\")\n",
    "print(clr_list1.difference(clr_list2))\n"
   ]
  },
  {
   "cell_type": "code",
   "execution_count": null,
   "metadata": {
    "collapsed": true
   },
   "outputs": [],
   "source": []
  }
 ],
 "metadata": {
  "kernelspec": {
   "display_name": "Python 3",
   "language": "python",
   "name": "python3"
  },
  "language_info": {
   "codemirror_mode": {
    "name": "ipython",
    "version": 3
   },
   "file_extension": ".py",
   "mimetype": "text/x-python",
   "name": "python",
   "nbconvert_exporter": "python",
   "pygments_lexer": "ipython3",
   "version": "3.6.3"
  }
 },
 "nbformat": 4,
 "nbformat_minor": 2
}
