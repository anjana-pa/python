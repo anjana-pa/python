{
 "cells": [
  {
   "cell_type": "code",
   "execution_count": null,
   "metadata": {},
   "outputs": [
    {
     "name": "stdout",
     "output_type": "stream",
     "text": [
      "1.rectangle\n",
      "2.circle\n",
      "3.cuboid\n",
      "4.sphere\n",
      "5.exit\n",
      "enter your choice:1\n",
      "enter length:4\n",
      "enter breadth:5\n",
      "area of rectangle: 20\n",
      "perimeter of rectangle: 18\n",
      "1.rectangle\n",
      "2.circle\n",
      "3.cuboid\n",
      "4.sphere\n",
      "5.exit\n",
      "enter your choice:2\n",
      "enter radius:3\n",
      "area of circle: 28.259999999999998\n",
      "perimeter of circle: 18.84\n",
      "1.rectangle\n",
      "2.circle\n",
      "3.cuboid\n",
      "4.sphere\n",
      "5.exit\n",
      "enter your choice:3\n",
      "enter length:4\n",
      "enter breadth:3\n",
      "enter height:3\n",
      "area of cuboid: 66\n",
      "perimeter of cuboid: 40\n",
      "1.rectangle\n",
      "2.circle\n",
      "3.cuboid\n",
      "4.sphere\n",
      "5.exit\n",
      "enter your choice:4\n",
      "enter radius:3\n",
      "area of sphere: 56.52\n",
      "perimeter of sphere: 113.04\n",
      "1.rectangle\n",
      "2.circle\n",
      "3.cuboid\n",
      "4.sphere\n",
      "5.exit\n"
     ]
    }
   ],
   "source": [
    "from graphics import rectangle\n",
    "from graphics import circ\n",
    "from graphics.GRAPHICS3D import cuboid\n",
    "from graphics.GRAPHICS3D import sphere\n",
    "while(1):\n",
    "    print(\"1.rectangle\\n2.circle\\n3.cuboid\\n4.sphere\\n5.exit\")\n",
    "    ch=int(input(\"enter your choice:\"))\n",
    "    if ch==1:\n",
    "        l=int(input(\"enter length:\"))\n",
    "        b=int(input(\"enter breadth:\"))\n",
    "        rectangle.rectarea(l,b)\n",
    "        rectangle.rectperi(l,b)\n",
    "    elif ch==2:\n",
    "        r=int(input(\"enter radius:\"))\n",
    "        circ.circlearea(r)\n",
    "        circ.circleperi(r)\n",
    "    elif ch==3:\n",
    "        l=int(input(\"enter length:\"))\n",
    "        b=int(input(\"enter breadth:\"))\n",
    "        h=int(input(\"enter height:\"))\n",
    "        cuboid.cuboidarea(l,b,h)\n",
    "        cuboid.cuboidperi(l,b,h)\n",
    "    elif ch==4:\n",
    "        r=int(input(\"enter radius:\"))\n",
    "        sphere.spherearea(r)\n",
    "        sphere.sphereperi(r)\n",
    "    else:\n",
    "        print(\"exiting...\")\n",
    "        break"
   ]
  },
  {
   "cell_type": "code",
   "execution_count": null,
   "metadata": {
    "collapsed": true
   },
   "outputs": [],
   "source": []
  },
  {
   "cell_type": "code",
   "execution_count": null,
   "metadata": {
    "collapsed": true
   },
   "outputs": [],
   "source": []
  }
 ],
 "metadata": {
  "kernelspec": {
   "display_name": "Python 3",
   "language": "python",
   "name": "python3"
  },
  "language_info": {
   "codemirror_mode": {
    "name": "ipython",
    "version": 3
   },
   "file_extension": ".py",
   "mimetype": "text/x-python",
   "name": "python",
   "nbconvert_exporter": "python",
   "pygments_lexer": "ipython3",
   "version": "3.6.3"
  }
 },
 "nbformat": 4,
 "nbformat_minor": 2
}
