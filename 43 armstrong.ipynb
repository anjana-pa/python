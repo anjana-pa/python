{
 "cells": [
  {
   "cell_type": "code",
   "execution_count": 12,
   "metadata": {},
   "outputs": [
    {
     "name": "stdout",
     "output_type": "stream",
     "text": [
      "enter a number:371\n",
      "is an armstrong number\n"
     ]
    }
   ],
   "source": [
    "#check the number is armstrong or not\n",
    "a=input(\"enter a number:\")\n",
    "result=0\n",
    "for i in range(len(a)):\n",
    "    b=int(a[i])\n",
    "    result=result+(b** int(len(a)))\n",
    "if result==int(a):\n",
    "    print(\"is an armstrong number\")\n",
    "elif result!=int(a):\n",
    "    print(\"is not an armstrong number\")"
   ]
  },
  {
   "cell_type": "code",
   "execution_count": null,
   "metadata": {
    "collapsed": true
   },
   "outputs": [],
   "source": []
  }
 ],
 "metadata": {
  "kernelspec": {
   "display_name": "Python 3",
   "language": "python",
   "name": "python3"
  },
  "language_info": {
   "codemirror_mode": {
    "name": "ipython",
    "version": 3
   },
   "file_extension": ".py",
   "mimetype": "text/x-python",
   "name": "python",
   "nbconvert_exporter": "python",
   "pygments_lexer": "ipython3",
   "version": "3.6.3"
  }
 },
 "nbformat": 4,
 "nbformat_minor": 2
}
