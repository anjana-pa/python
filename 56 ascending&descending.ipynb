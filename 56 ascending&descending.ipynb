{
 "cells": [
  {
   "cell_type": "code",
   "execution_count": 1,
   "metadata": {},
   "outputs": [
    {
     "name": "stdout",
     "output_type": "stream",
     "text": [
      "Ascending order is: [('buji', 14), ('doora', 15), ('jerry', 13), ('tom', 12)]\n",
      "Descending order is: [('tom', 12), ('jerry', 13), ('doora', 15), ('buji', 14)]\n",
      "Dictionary {'tom': 12, 'jerry': 13, 'doora': 15, 'buji': 14}\n"
     ]
    }
   ],
   "source": [
    "#Sort dictionary in ascending and descending order.\n",
    "a={'tom':12,'jerry':13,'doora':15,'buji':14}\n",
    "l=list(a.items())\n",
    "l.sort()            \n",
    "print('Ascending order is:',l)\n",
    "l=list(a.items())\n",
    "l.sort(reverse=True)\n",
    "print('Descending order is:',l)\n",
    "dict=dict(l)\n",
    "print(\"Dictionary\",dict)"
   ]
  },
  {
   "cell_type": "code",
   "execution_count": null,
   "metadata": {
    "collapsed": true
   },
   "outputs": [],
   "source": []
  }
 ],
 "metadata": {
  "kernelspec": {
   "display_name": "Python 3",
   "language": "python",
   "name": "python3"
  },
  "language_info": {
   "codemirror_mode": {
    "name": "ipython",
    "version": 3
   },
   "file_extension": ".py",
   "mimetype": "text/x-python",
   "name": "python",
   "nbconvert_exporter": "python",
   "pygments_lexer": "ipython3",
   "version": "3.6.3"
  }
 },
 "nbformat": 4,
 "nbformat_minor": 2
}
