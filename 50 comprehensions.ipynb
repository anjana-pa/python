{
 "cells": [
  {
   "cell_type": "code",
   "execution_count": 1,
   "metadata": {},
   "outputs": [
    {
     "name": "stdout",
     "output_type": "stream",
     "text": [
      "Enter the numbers seperated by comma:2,4,5,-1\n",
      "Positive integers in the list: [2, 4, 5]\n",
      "Square of  numbers [4, 16, 25, 1]\n",
      "Enter the word:butterfly\n",
      "The Vowels are: ['u', 'e']\n",
      "the ordinal values of the word butterfly is [98, 117, 116, 116, 101, 114, 102, 108, 121]\n"
     ]
    }
   ],
   "source": [
    "#50.Using List comprehensions:\n",
    "n=input(\"Enter the numbers seperated by comma:\").split(\",\")\n",
    "b=map(int,n)\n",
    "nl=[x for x in b if x>0]\n",
    "print(\"Positive integers in the list:\",nl)\n",
    "d=map(int,n)\n",
    "#square of n numbers\n",
    "nl2=[x**2 for x in d]\n",
    "print( \"Square of  numbers\",nl2)\n",
    "#vowels\n",
    "w=input(\"Enter the word:\")\n",
    "vowels=[\"a\",\"e\",\"i\",\"o\",\"u\",'A','E','i','O','U']\n",
    "list=[v for v in w if any(char in vowels for char in v)]\n",
    "print(\"The Vowels are:\",list)\n",
    "z=[ord(x) for x in w]\n",
    "print(\"the ordinal values of the word %s is %s\"%(w,z))\n"
   ]
  },
  {
   "cell_type": "code",
   "execution_count": null,
   "metadata": {
    "collapsed": true
   },
   "outputs": [],
   "source": []
  }
 ],
 "metadata": {
  "kernelspec": {
   "display_name": "Python 3",
   "language": "python",
   "name": "python3"
  },
  "language_info": {
   "codemirror_mode": {
    "name": "ipython",
    "version": 3
   },
   "file_extension": ".py",
   "mimetype": "text/x-python",
   "name": "python",
   "nbconvert_exporter": "python",
   "pygments_lexer": "ipython3",
   "version": "3.6.3"
  }
 },
 "nbformat": 4,
 "nbformat_minor": 2
}
