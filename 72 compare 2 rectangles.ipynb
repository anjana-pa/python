{
 "cells": [
  {
   "cell_type": "code",
   "execution_count": 2,
   "metadata": {},
   "outputs": [
    {
     "name": "stdout",
     "output_type": "stream",
     "text": [
      "enter the length of rectangle1:4\n",
      "enter the breadth of rectangle1:6\n",
      "enter the length of rectangle2:3\n",
      "enter the breadth of rectangle2:5\n",
      "area of rectangle1: 24\n",
      "area of rectangle2: 15\n",
      "perimeter of rectangle1: 20\n",
      "perimeter of rectangle2: 16\n",
      "rectangle1 if greater\n"
     ]
    }
   ],
   "source": [
    "class rectangle():\n",
    "    def get(self,l,b):\n",
    "        self.l=l\n",
    "        self.b=b\n",
    "    def area(self,l,b):\n",
    "        return l*b\n",
    "    def perimeter(self,l,b):\n",
    "        return 2*(l+b)\n",
    "r1=rectangle()\n",
    "r2=rectangle()\n",
    "l1=int(input(\"enter the length of rectangle1:\"))\n",
    "b1=int(input(\"enter the breadth of rectangle1:\"))\n",
    "l2=int(input(\"enter the length of rectangle2:\"))\n",
    "b2=int(input(\"enter the breadth of rectangle2:\"))\n",
    "p=r1.area(l1,b1)\n",
    "q=r2.area(l2,b2)\n",
    "s=r1.perimeter(l1,b1)\n",
    "t=r2.perimeter(l2,b2)\n",
    "print(\"area of rectangle1:\",p)\n",
    "print(\"area of rectangle2:\",q)\n",
    "print(\"perimeter of rectangle1:\",s)\n",
    "print(\"perimeter of rectangle2:\",t)\n",
    "if(p>q):\n",
    "    print(\"rectangle1 if greater\")\n",
    "elif(p<q):\n",
    "    print(\"rectangle2 if greater\")\n",
    "else:\n",
    "    print(\"rectangles are equal\")"
   ]
  },
  {
   "cell_type": "code",
   "execution_count": null,
   "metadata": {
    "collapsed": true
   },
   "outputs": [],
   "source": []
  }
 ],
 "metadata": {
  "kernelspec": {
   "display_name": "Python 3",
   "language": "python",
   "name": "python3"
  },
  "language_info": {
   "codemirror_mode": {
    "name": "ipython",
    "version": 3
   },
   "file_extension": ".py",
   "mimetype": "text/x-python",
   "name": "python",
   "nbconvert_exporter": "python",
   "pygments_lexer": "ipython3",
   "version": "3.6.3"
  }
 },
 "nbformat": 4,
 "nbformat_minor": 2
}
