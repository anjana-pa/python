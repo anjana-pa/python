{
 "cells": [
  {
   "cell_type": "code",
   "execution_count": 2,
   "metadata": {},
   "outputs": [
    {
     "name": "stdout",
     "output_type": "stream",
     "text": [
      "list = [2, 10, 17, 22, 37, 39, 6]\n",
      "list of items after removing even items= [10, 17, 37, 39]\n"
     ]
    }
   ],
   "source": [
    "#removing list integers\n",
    "evenList=[2,10,17,22,37,39,6]\n",
    "print(\"list =\",evenList)\n",
    "for ev in evenList:\n",
    "    if(ev%2==0):\n",
    "        evenList.remove(ev)\n",
    "print(\"list of items after removing even items=\",evenList)"
   ]
  },
  {
   "cell_type": "code",
   "execution_count": null,
   "metadata": {
    "collapsed": true
   },
   "outputs": [],
   "source": []
  }
 ],
 "metadata": {
  "kernelspec": {
   "display_name": "Python 3",
   "language": "python",
   "name": "python3"
  },
  "language_info": {
   "codemirror_mode": {
    "name": "ipython",
    "version": 3
   },
   "file_extension": ".py",
   "mimetype": "text/x-python",
   "name": "python",
   "nbconvert_exporter": "python",
   "pygments_lexer": "ipython3",
   "version": "3.6.3"
  }
 },
 "nbformat": 4,
 "nbformat_minor": 2
}
