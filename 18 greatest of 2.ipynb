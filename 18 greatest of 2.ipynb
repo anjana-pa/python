{
 "cells": [
  {
   "cell_type": "code",
   "execution_count": 2,
   "metadata": {},
   "outputs": [
    {
     "name": "stdout",
     "output_type": "stream",
     "text": [
      "enter first number:20\n",
      "enter second number:46\n",
      "greater is: 46\n"
     ]
    }
   ],
   "source": [
    "a=int(input(\"enter first number:\" ))\n",
    "b=int(input(\"enter second number:\"))   \n",
    "if(a>b):\n",
    "   print(\"greater is:\",a)\n",
    "else:\n",
    "   print(\"greater is:\",b)"
   ]
  },
  {
   "cell_type": "code",
   "execution_count": null,
   "metadata": {
    "collapsed": true
   },
   "outputs": [],
   "source": []
  }
 ],
 "metadata": {
  "kernelspec": {
   "display_name": "Python 3",
   "language": "python",
   "name": "python3"
  },
  "language_info": {
   "codemirror_mode": {
    "name": "ipython",
    "version": 3
   },
   "file_extension": ".py",
   "mimetype": "text/x-python",
   "name": "python",
   "nbconvert_exporter": "python",
   "pygments_lexer": "ipython3",
   "version": "3.6.3"
  }
 },
 "nbformat": 4,
 "nbformat_minor": 2
}
