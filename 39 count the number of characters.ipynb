{
 "cells": [
  {
   "cell_type": "code",
   "execution_count": 6,
   "metadata": {},
   "outputs": [
    {
     "name": "stdout",
     "output_type": "stream",
     "text": [
      "enter a string:butter\n",
      "Frequency of characters\n",
      "b = 1\n",
      "u = 1\n",
      "t = 2\n",
      "e = 1\n",
      "r = 1\n"
     ]
    }
   ],
   "source": [
    "#frequency of characters in a given string\n",
    "s=(input(\"enter a string:\"))\n",
    "frq={}\n",
    "for i in s:\n",
    "    if i in frq:\n",
    "        frq[i]=frq[i]+1\n",
    "    else:\n",
    "            frq[i]=1\n",
    "print(\"Frequency of characters\")\n",
    "for keys,value in frq.items():\n",
    "    print(keys,\"=\",value)"
   ]
  },
  {
   "cell_type": "code",
   "execution_count": null,
   "metadata": {
    "collapsed": true
   },
   "outputs": [],
   "source": []
  },
  {
   "cell_type": "code",
   "execution_count": null,
   "metadata": {
    "collapsed": true
   },
   "outputs": [],
   "source": []
  }
 ],
 "metadata": {
  "kernelspec": {
   "display_name": "Python 3",
   "language": "python",
   "name": "python3"
  }
 },
 "nbformat": 4,
 "nbformat_minor": 2
}
