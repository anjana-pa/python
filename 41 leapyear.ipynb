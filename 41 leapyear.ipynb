{
 "cells": [
  {
   "cell_type": "code",
   "execution_count": 2,
   "metadata": {},
   "outputs": [
    {
     "name": "stdout",
     "output_type": "stream",
     "text": [
      "Enter the starting year:2000\n",
      "Enter the ending year:2030\n",
      "leap years from 2000 to 2030 is:\n",
      "2000\n",
      "2004\n",
      "2008\n",
      "2012\n",
      "2016\n",
      "2020\n",
      "2024\n",
      "2028\n"
     ]
    }
   ],
   "source": [
    "#leap year with in range\n",
    "a=int(input(\"Enter the starting year:\"))\n",
    "b=int(input(\"Enter the ending year:\"))\n",
    "print(\"leap years from\",a,\"to\",b,\"is:\")\n",
    "for i in range(a,b):\n",
    "    if(0==i%4) and (0!=i%100) or (0==i%400):\n",
    "        print(i)"
   ]
  },
  {
   "cell_type": "code",
   "execution_count": null,
   "metadata": {
    "collapsed": true
   },
   "outputs": [],
   "source": []
  }
 ],
 "metadata": {
  "kernelspec": {
   "display_name": "Python 3",
   "language": "python",
   "name": "python3"
  },
  "language_info": {
   "codemirror_mode": {
    "name": "ipython",
    "version": 3
   },
   "file_extension": ".py",
   "mimetype": "text/x-python",
   "name": "python",
   "nbconvert_exporter": "python",
   "pygments_lexer": "ipython3",
   "version": "3.6.3"
  }
 },
 "nbformat": 4,
 "nbformat_minor": 2
}
