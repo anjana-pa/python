{
 "cells": [
  {
   "cell_type": "code",
   "execution_count": 2,
   "metadata": {},
   "outputs": [
    {
     "name": "stdout",
     "output_type": "stream",
     "text": [
      "enter the first no:6\n",
      "enter the second no:8\n",
      "enter the third no:3\n",
      "maximum of three number is= 8\n"
     ]
    }
   ],
   "source": [
    "import math\n",
    "a=int(input(\"enter the first no:\"))\n",
    "b=int(input(\"enter the second no:\"))\n",
    "c=int(input(\"enter the third no:\"))\n",
    "d=max(a,b,c)\n",
    "print(\"maximum of three number is=\",d)"
   ]
  },
  {
   "cell_type": "code",
   "execution_count": null,
   "metadata": {
    "collapsed": true
   },
   "outputs": [],
   "source": []
  }
 ],
 "metadata": {
  "kernelspec": {
   "display_name": "Python 3",
   "language": "python",
   "name": "python3"
  },
  "language_info": {
   "codemirror_mode": {
    "name": "ipython",
    "version": 3
   },
   "file_extension": ".py",
   "mimetype": "text/x-python",
   "name": "python",
   "nbconvert_exporter": "python",
   "pygments_lexer": "ipython3",
   "version": "3.6.3"
  }
 },
 "nbformat": 4,
 "nbformat_minor": 2
}
