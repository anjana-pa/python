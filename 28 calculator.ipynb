{
 "cells": [
  {
   "cell_type": "code",
   "execution_count": 1,
   "metadata": {},
   "outputs": [
    {
     "name": "stdout",
     "output_type": "stream",
     "text": [
      "select the oprations\n",
      "1.Add\n",
      "2.Substract\n",
      "3.Multiply\n",
      "4.dividion\n",
      "enter the first number:5\n",
      "enter the second number:4\n",
      "enter the choice:1\n",
      "addition:9.00\n"
     ]
    }
   ],
   "source": [
    "print(\"select the oprations\")\n",
    "print(\"1.Add\")\n",
    "print(\"2.Substract\")\n",
    "print(\"3.Multiply\")\n",
    "print(\"4.dividion\")\n",
    "num1=float(input(\"enter the first number:\"))\n",
    "num2=float(input(\"enter the second number:\"))\n",
    "choice=int(input(\"enter the choice:\"))\n",
    "if(choice==1):\n",
    "    print(\"addition:%.2f\"%(num1+num2))\n",
    "elif(choice==2):\n",
    "    print(\"substraction:%.2f\"%(num1-num2))\n",
    "elif(choice==3):  \n",
    "    print(\"multiply:%.2f\"%(num1*num2))\n",
    "elif(choice==4):\n",
    "    print(\"division:%.2f\"%(num1/num2))\n",
    "else:\n",
    "    print(\"invalid\")"
   ]
  },
  {
   "cell_type": "code",
   "execution_count": null,
   "metadata": {
    "collapsed": true
   },
   "outputs": [],
   "source": []
  }
 ],
 "metadata": {
  "kernelspec": {
   "display_name": "Python 3",
   "language": "python",
   "name": "python3"
  },
  "language_info": {
   "codemirror_mode": {
    "name": "ipython",
    "version": 3
   },
   "file_extension": ".py",
   "mimetype": "text/x-python",
   "name": "python",
   "nbconvert_exporter": "python",
   "pygments_lexer": "ipython3",
   "version": "3.6.3"
  }
 },
 "nbformat": 4,
 "nbformat_minor": 2
}
