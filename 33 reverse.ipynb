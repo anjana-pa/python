{
 "cells": [
  {
   "cell_type": "code",
   "execution_count": 10,
   "metadata": {},
   "outputs": [
    {
     "name": "stdout",
     "output_type": "stream",
     "text": [
      "enter a number:1000\n",
      "reverse number is:\n",
      "0001"
     ]
    }
   ],
   "source": [
    "n=int(input(\"enter a number:\"))\n",
    "print(\"reverse number is:\")\n",
    "while(n!=0):http://localhost:8888/notebooks/anjana/33%20reverse.ipynb#\n",
    "     m=n%10\n",
    "     n=n//10\n",
    "     print(m,end=\"\")"
   ]
  },
  {
   "cell_type": "code",
   "execution_count": null,
   "metadata": {
    "collapsed": true
   },
   "outputs": [],
   "source": []
  }
 ],
 "metadata": {
  "kernelspec": {
   "display_name": "Python 3",
   "language": "python",
   "name": "python3"
  },
  "language_info": {
   "codemirror_mode": {
    "name": "ipython",
    "version": 3
   },
   "file_extension": ".py",
   "mimetype": "text/x-python",
   "name": "python",
   "nbconvert_exporter": "python",
   "pygments_lexer": "ipython3",
   "version": "3.6.3"
  }
 },
 "nbformat": 4,
 "nbformat_minor": 2
}
