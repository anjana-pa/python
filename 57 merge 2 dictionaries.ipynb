{
 "cells": [
  {
   "cell_type": "code",
   "execution_count": 4,
   "metadata": {},
   "outputs": [
    {
     "name": "stdout",
     "output_type": "stream",
     "text": [
      "first: {1: 'red', 2: 'blue', 3: 'green', 4: 'yellow'}\n",
      "second: {5: 'white', 6: 'black'}\n",
      "\n",
      " after concatenating:\n",
      "{1: 'red', 2: 'blue', 3: 'green', 4: 'yellow', 5: 'white', 6: 'black'}\n"
     ]
    }
   ],
   "source": [
    "#merge 2 dictionaries\n",
    "first_Dict={1:'red',2:'blue',3:'green',4:'yellow'}\n",
    "second_Dict={5:'white',6:'black'}\n",
    "print(\"first:\",first_Dict)\n",
    "print(\"second:\",second_Dict)\n",
    "first_Dict.update(second_Dict)\n",
    "print(\"\\n after concatenating:\")\n",
    "print(first_Dict)"
   ]
  },
  {
   "cell_type": "code",
   "execution_count": null,
   "metadata": {
    "collapsed": true
   },
   "outputs": [],
   "source": []
  },
  {
   "cell_type": "code",
   "execution_count": null,
   "metadata": {
    "collapsed": true
   },
   "outputs": [],
   "source": []
  }
 ],
 "metadata": {
  "kernelspec": {
   "display_name": "Python 3",
   "language": "python",
   "name": "python3"
  },
  "language_info": {
   "codemirror_mode": {
    "name": "ipython",
    "version": 3
   },
   "file_extension": ".py",
   "mimetype": "text/x-python",
   "name": "python",
   "nbconvert_exporter": "python",
   "pygments_lexer": "ipython3",
   "version": "3.6.3"
  }
 },
 "nbformat": 4,
 "nbformat_minor": 2
}
